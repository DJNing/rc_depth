{
 "cells": [
  {
   "cell_type": "code",
   "execution_count": 3,
   "id": "ceca0931-0713-4daf-920d-87c4b238db94",
   "metadata": {
    "scrolled": true,
    "tags": []
   },
   "outputs": [
    {
     "name": "stdout",
     "output_type": "stream",
     "text": [
      "Processed 1/150 directories\n",
      "Processed 2/150 directories\n",
      "Processed 3/150 directories\n",
      "Processed 4/150 directories\n",
      "Processed 5/150 directories\n",
      "Processed 6/150 directories\n",
      "Processed 7/150 directories\n",
      "Processed 8/150 directories\n",
      "Processed 9/150 directories\n",
      "Processed 10/150 directories\n",
      "Processed 11/150 directories\n",
      "Processed 12/150 directories\n",
      "Processed 13/150 directories\n",
      "Processed 14/150 directories\n",
      "Processed 15/150 directories\n",
      "Processed 16/150 directories\n",
      "Processed 17/150 directories\n",
      "Processed 18/150 directories\n",
      "Processed 19/150 directories\n",
      "Processed 20/150 directories\n",
      "Processed 21/150 directories\n",
      "Processed 22/150 directories\n",
      "Processed 23/150 directories\n",
      "Processed 24/150 directories\n",
      "Processed 25/150 directories\n",
      "Processed 26/150 directories\n",
      "Processed 27/150 directories\n",
      "Processed 28/150 directories\n",
      "Processed 29/150 directories\n",
      "Processed 30/150 directories\n",
      "Processed 31/150 directories\n",
      "Processed 32/150 directories\n",
      "Processed 33/150 directories\n",
      "Processed 34/150 directories\n",
      "Processed 35/150 directories\n",
      "Processed 36/150 directories\n",
      "Processed 37/150 directories\n",
      "Processed 38/150 directories\n",
      "Processed 39/150 directories\n",
      "Processed 40/150 directories\n",
      "Processed 41/150 directories\n",
      "Processed 42/150 directories\n",
      "Processed 43/150 directories\n",
      "Processed 44/150 directories\n",
      "Processed 45/150 directories\n",
      "Processed 46/150 directories\n",
      "Processed 47/150 directories\n",
      "Processed 48/150 directories\n",
      "Processed 49/150 directories\n",
      "Processed 50/150 directories\n",
      "Processed 51/150 directories\n",
      "Processed 52/150 directories\n",
      "Processed 53/150 directories\n",
      "Processed 54/150 directories\n",
      "Processed 55/150 directories\n",
      "Processed 56/150 directories\n",
      "Processed 57/150 directories\n",
      "Processed 58/150 directories\n",
      "Processed 59/150 directories\n",
      "Processed 60/150 directories\n",
      "Processed 61/150 directories\n",
      "Processed 62/150 directories\n",
      "Processed 63/150 directories\n",
      "Processed 64/150 directories\n",
      "Processed 65/150 directories\n",
      "Processed 66/150 directories\n",
      "Processed 67/150 directories\n",
      "Processed 68/150 directories\n",
      "Processed 69/150 directories\n",
      "Processed 70/150 directories\n",
      "Processed 71/150 directories\n",
      "Processed 72/150 directories\n",
      "Processed 73/150 directories\n",
      "Processed 74/150 directories\n",
      "Processed 75/150 directories\n",
      "Processed 76/150 directories\n",
      "Processed 77/150 directories\n",
      "Processed 78/150 directories\n",
      "Processed 79/150 directories\n",
      "Processed 80/150 directories\n",
      "Processed 81/150 directories\n",
      "Processed 82/150 directories\n",
      "Processed 83/150 directories\n",
      "Processed 84/150 directories\n",
      "Processed 85/150 directories\n",
      "Processed 86/150 directories\n",
      "Processed 87/150 directories\n",
      "Processed 88/150 directories\n",
      "Processed 89/150 directories\n",
      "Processed 90/150 directories\n",
      "Processed 91/150 directories\n",
      "Processed 92/150 directories\n",
      "Processed 93/150 directories\n",
      "Processed 94/150 directories\n",
      "Processed 95/150 directories\n",
      "Processed 96/150 directories\n",
      "Processed 97/150 directories\n",
      "Processed 98/150 directories\n",
      "Processed 99/150 directories\n",
      "Processed 100/150 directories\n",
      "Processed 101/150 directories\n",
      "Processed 102/150 directories\n",
      "Processed 103/150 directories\n",
      "Processed 104/150 directories\n",
      "Processed 105/150 directories\n",
      "Processed 106/150 directories\n",
      "Processed 107/150 directories\n",
      "Processed 108/150 directories\n",
      "Processed 109/150 directories\n",
      "Processed 110/150 directories\n",
      "Processed 111/150 directories\n",
      "Processed 112/150 directories\n",
      "Processed 113/150 directories\n",
      "Processed 114/150 directories\n",
      "Processed 115/150 directories\n",
      "Processed 116/150 directories\n",
      "Processed 117/150 directories\n",
      "Processed 118/150 directories\n",
      "Processed 119/150 directories\n",
      "Processed 120/150 directories\n",
      "Processed 121/150 directories\n",
      "Processed 122/150 directories\n",
      "Processed 123/150 directories\n",
      "Processed 124/150 directories\n",
      "Processed 125/150 directories\n",
      "Processed 126/150 directories\n",
      "Processed 127/150 directories\n",
      "Processed 128/150 directories\n",
      "Processed 129/150 directories\n",
      "Processed 130/150 directories\n",
      "Processed 131/150 directories\n",
      "Processed 132/150 directories\n",
      "Processed 133/150 directories\n",
      "Processed 134/150 directories\n",
      "Processed 135/150 directories\n",
      "Processed 136/150 directories\n",
      "Processed 137/150 directories\n",
      "Processed 138/150 directories\n",
      "Processed 139/150 directories\n",
      "Processed 140/150 directories\n",
      "Processed 141/150 directories\n",
      "Processed 142/150 directories\n",
      "Processed 143/150 directories\n",
      "Processed 144/150 directories\n",
      "Processed 145/150 directories\n",
      "Processed 146/150 directories\n",
      "Processed 147/150 directories\n",
      "Processed 148/150 directories\n",
      "Processed 149/150 directories\n",
      "Processed 150/150 directories\n",
      "Completed all tests.\n"
     ]
    }
   ],
   "source": [
    "import os, glob\n",
    "import numpy as np\n",
    "import pickle\n",
    "\n",
    "DATA_ROOT = '/home/akash/Documents/nuScenes/kode/Second_stage/gt_radar_val'\n",
    "\n",
    "final_paths_lidar_images = []\n",
    "final_paths_radar_numpys = []\n",
    "\n",
    "GROUND_TRUTH_MERGE_LIDAR_IMAGE_REF = 'ground_truth_val-scene-id'\n",
    "RADAR_POINTS_NUMPY_REF= 'radar_points-scene-id'\n",
    "\n",
    "# pseudo_ground_truth_label_dirpaths = glob.glob(os.path.join(DATA_ROOT, PSEUDO_GROUND_TRUTH_LABEL_REF + '*'))\n",
    "ground_truth_merge_lidar_image_dirpaths = glob.glob(os.path.join(DATA_ROOT, GROUND_TRUTH_MERGE_LIDAR_IMAGE_REF + '*'))\n",
    "radar_points_numpy_dirpaths = glob.glob(os.path.join(DATA_ROOT, RADAR_POINTS_NUMPY_REF + '*'))\n",
    "\n",
    "n_dirpath = len(ground_truth_merge_lidar_image_dirpaths)\n",
    "\n",
    "assert n_dirpath == len(ground_truth_merge_lidar_image_dirpaths)\n",
    "assert n_dirpath == len(radar_points_numpy_dirpaths)\n",
    "\n",
    "# pseudo_ground_truth_label_dirpaths = sorted(pseudo_ground_truth_label_dirpaths)\n",
    "ground_truth_merge_lidar_image_dirpaths = sorted(ground_truth_merge_lidar_image_dirpaths)\n",
    "radar_points_numpy_dirpaths = sorted(radar_points_numpy_dirpaths)\n",
    "\n",
    "data = zip(ground_truth_merge_lidar_image_dirpaths,\n",
    "           radar_points_numpy_dirpaths)\n",
    "\n",
    "for dirpath_idx, (lidar_image_dirpath, numpy_dirpath) in enumerate(data):\n",
    "    \n",
    "    lidar_image_paths = glob.glob(os.path.join(lidar_image_dirpath, 'CAM_FRONT', '*.png'))\n",
    "    numpy_paths = glob.glob(os.path.join(numpy_dirpath, 'CAM_FRONT', '*.npy'))\n",
    "    \n",
    "    if len(lidar_image_paths) != len(numpy_paths):\n",
    "        print(\n",
    "            'len(lidar_image_paths)={} \\n'.format(len(lidar_image_paths)) + \\\n",
    "            'len(lien(numpy_paths)={} \\n'.format(len(numpy_paths)) + \\\n",
    "            'dirpath_idx={}'.format(dirpath_idx) + \\\n",
    "            'lidar_image_dirpath={} \\n'.format(lidar_image_dirpath) + \\\n",
    "            'numpy_dirpath={} \\n'.format(numpy_dirpath))\n",
    "        \n",
    "    lidar_image_paths = sorted(lidar_image_paths)\n",
    "    numpy_paths = sorted(numpy_paths)\n",
    "\n",
    "    for sample_idx, (lidar_image_path, numpy_path) in enumerate(zip(lidar_image_paths, numpy_paths)):\n",
    "\n",
    "        lidar_sample_name = os.path.splitext(os.path.basename(lidar_image_path))[0]\n",
    "\n",
    "        radar_points = np.load(numpy_path)\n",
    "        n_radar_points = radar_points.shape[0]\n",
    "        \n",
    "        lidar_image_path_to_save = [lidar_image_path]\n",
    "        radar_numpy_path_to_save = [numpy_path]\n",
    "        \n",
    "        final_paths_lidar_images = final_paths_lidar_images + lidar_image_path_to_save\n",
    "        final_paths_radar_numpys = final_paths_radar_numpys + radar_numpy_path_to_save\n",
    "    \n",
    "    print('Processed {}/{} directories'.format(dirpath_idx + 1, n_dirpath))\n",
    "\n",
    "print('Completed all tests.')"
   ]
  },
  {
   "cell_type": "code",
   "execution_count": 2,
   "id": "292a3b72-841c-423f-94e2-c130ba3bd83f",
   "metadata": {},
   "outputs": [],
   "source": [
    "file_to_save_lidar_image_paths = 'gt_images_paths_train.pkl'\n",
    "\n",
    "open_file = open(file_to_save_lidar_image_paths, \"wb\")\n",
    "\n",
    "pickle.dump(final_paths_lidar_images, open_file)\n",
    "\n",
    "open_file.close()\n",
    "\n",
    "file_to_save_radar_paths = 'radar_numpy_paths_train.pkl'\n",
    "\n",
    "open_file = open(file_to_save_radar_paths, \"wb\")\n",
    "\n",
    "pickle.dump(final_paths_radar_numpys, open_file)\n",
    "\n",
    "open_file.close()"
   ]
  },
  {
   "cell_type": "code",
   "execution_count": 2,
   "id": "5c6b6fd6-3bcf-4ea7-9fdc-788b0c0adb5a",
   "metadata": {},
   "outputs": [],
   "source": [
    "import numpy as np"
   ]
  },
  {
   "cell_type": "code",
   "execution_count": 21,
   "id": "0a4d9ca2-0e42-4f73-8acc-480496738c10",
   "metadata": {},
   "outputs": [
    {
     "data": {
      "text/plain": [
       "57"
      ]
     },
     "execution_count": 21,
     "metadata": {},
     "output_type": "execute_result"
    }
   ],
   "source": [
    "int(final_paths_lidar_labels[0][-6:].split('.')[0])"
   ]
  },
  {
   "cell_type": "code",
   "execution_count": 28,
   "id": "aa2f902e-99b0-4e94-aa68-0f2d49375949",
   "metadata": {},
   "outputs": [
    {
     "data": {
      "text/plain": [
       "'n015-2018-07-18-11-07-57+0800__CAM_FRONT__1531883530412470.jpg'"
      ]
     },
     "execution_count": 28,
     "metadata": {},
     "output_type": "execute_result"
    }
   ],
   "source": [
    "os.path.split(final_paths_lidar_images[0])[1].replace('.png','.jpg')"
   ]
  },
  {
   "cell_type": "code",
   "execution_count": 3,
   "id": "f69551ab-34ee-4098-b79b-009047697b8d",
   "metadata": {},
   "outputs": [],
   "source": [
    "array = np.load('/home/akash/Documents/nuScenes/kode/Second_stage/gt_radar_val/radar_points-scene-id620/CAM_FRONT/n015-2018-10-02-10-50-40+0800__CAM_FRONT__1538448844612460-1.npy')"
   ]
  },
  {
   "cell_type": "code",
   "execution_count": 4,
   "id": "c0c1d542-3ee7-4adf-993d-b426aafc6fe2",
   "metadata": {},
   "outputs": [
    {
     "data": {
      "text/plain": [
       "(57, 100, 3)"
      ]
     },
     "execution_count": 4,
     "metadata": {},
     "output_type": "execute_result"
    }
   ],
   "source": [
    "array.shape"
   ]
  },
  {
   "cell_type": "code",
   "execution_count": 11,
   "id": "12c39c7b-0ff7-41c5-bd48-56d66f654b54",
   "metadata": {},
   "outputs": [
    {
     "data": {
      "text/plain": [
       "array([700.21516512, 504.93974915,  60.64927388])"
      ]
     },
     "execution_count": 11,
     "metadata": {},
     "output_type": "execute_result"
    }
   ],
   "source": [
    "array[45,0,:]"
   ]
  },
  {
   "cell_type": "code",
   "execution_count": null,
   "id": "41470c4d-6822-4587-9b81-dccb630f5d53",
   "metadata": {},
   "outputs": [],
   "source": []
  }
 ],
 "metadata": {
  "kernelspec": {
   "display_name": "Python 3 (ipykernel)",
   "language": "python",
   "name": "python3"
  },
  "language_info": {
   "codemirror_mode": {
    "name": "ipython",
    "version": 3
   },
   "file_extension": ".py",
   "mimetype": "text/x-python",
   "name": "python",
   "nbconvert_exporter": "python",
   "pygments_lexer": "ipython3",
   "version": "3.8.2"
  }
 },
 "nbformat": 4,
 "nbformat_minor": 5
}
